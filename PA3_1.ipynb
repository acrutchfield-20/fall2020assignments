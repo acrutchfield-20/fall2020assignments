{
 "cells": [
  {
   "cell_type": "code",
   "execution_count": 131,
   "metadata": {},
   "outputs": [],
   "source": [
    "import numpy as np\n",
    "import pandas as pd\n",
    "import altair as alt"
   ]
  },
  {
   "cell_type": "code",
   "execution_count": 39,
   "metadata": {},
   "outputs": [
    {
     "name": "stdout",
     "output_type": "stream",
     "text": [
      "Requirement already satisfied: scipy in /Library/Frameworks/Python.framework/Versions/3.8/lib/python3.8/site-packages (1.5.4)\n",
      "Requirement already satisfied: numpy>=1.14.5 in /Library/Frameworks/Python.framework/Versions/3.8/lib/python3.8/site-packages (from scipy) (1.19.2)\n",
      "\u001b[33mWARNING: You are using pip version 20.1.1; however, version 20.2.4 is available.\n",
      "You should consider upgrading via the '/usr/local/bin/python3 -m pip install --upgrade pip' command.\u001b[0m\n",
      "Note: you may need to restart the kernel to use updated packages.\n"
     ]
    }
   ],
   "source": [
    "pip install scipy"
   ]
  },
  {
   "cell_type": "code",
   "execution_count": 41,
   "metadata": {},
   "outputs": [],
   "source": [
    "import scipy\n",
    "from scipy import stats"
   ]
  },
  {
   "cell_type": "code",
   "execution_count": 133,
   "metadata": {},
   "outputs": [
    {
     "data": {
      "text/html": [
       "<div>\n",
       "<style scoped>\n",
       "    .dataframe tbody tr th:only-of-type {\n",
       "        vertical-align: middle;\n",
       "    }\n",
       "\n",
       "    .dataframe tbody tr th {\n",
       "        vertical-align: top;\n",
       "    }\n",
       "\n",
       "    .dataframe thead th {\n",
       "        text-align: right;\n",
       "    }\n",
       "</style>\n",
       "<table border=\"1\" class=\"dataframe\">\n",
       "  <thead>\n",
       "    <tr style=\"text-align: right;\">\n",
       "      <th></th>\n",
       "      <th>State</th>\n",
       "      <th>Percentage</th>\n",
       "      <th>adult=1 youth=2</th>\n",
       "      <th>adult percentage</th>\n",
       "      <th>youth percentage</th>\n",
       "    </tr>\n",
       "  </thead>\n",
       "  <tbody>\n",
       "    <tr>\n",
       "      <th>0</th>\n",
       "      <td>Alabama</td>\n",
       "      <td>7.46</td>\n",
       "      <td>1</td>\n",
       "      <td>7.46</td>\n",
       "      <td>3.961136</td>\n",
       "    </tr>\n",
       "    <tr>\n",
       "      <th>1</th>\n",
       "      <td>Alaska</td>\n",
       "      <td>9.76</td>\n",
       "      <td>1</td>\n",
       "      <td>9.76</td>\n",
       "      <td>6.539439</td>\n",
       "    </tr>\n",
       "    <tr>\n",
       "      <th>2</th>\n",
       "      <td>Arizona</td>\n",
       "      <td>7.36</td>\n",
       "      <td>1</td>\n",
       "      <td>7.36</td>\n",
       "      <td>4.769366</td>\n",
       "    </tr>\n",
       "    <tr>\n",
       "      <th>3</th>\n",
       "      <td>Arkansas</td>\n",
       "      <td>8.02</td>\n",
       "      <td>1</td>\n",
       "      <td>8.02</td>\n",
       "      <td>4.103869</td>\n",
       "    </tr>\n",
       "    <tr>\n",
       "      <th>4</th>\n",
       "      <td>California</td>\n",
       "      <td>8.12</td>\n",
       "      <td>1</td>\n",
       "      <td>8.12</td>\n",
       "      <td>4.625461</td>\n",
       "    </tr>\n",
       "    <tr>\n",
       "      <th>...</th>\n",
       "      <td>...</td>\n",
       "      <td>...</td>\n",
       "      <td>...</td>\n",
       "      <td>...</td>\n",
       "      <td>...</td>\n",
       "    </tr>\n",
       "    <tr>\n",
       "      <th>97</th>\n",
       "      <td>Virginia</td>\n",
       "      <td>3.645123485</td>\n",
       "      <td>2</td>\n",
       "      <td>NaN</td>\n",
       "      <td>NaN</td>\n",
       "    </tr>\n",
       "    <tr>\n",
       "      <th>98</th>\n",
       "      <td>Washington</td>\n",
       "      <td>5.180724175</td>\n",
       "      <td>2</td>\n",
       "      <td>NaN</td>\n",
       "      <td>NaN</td>\n",
       "    </tr>\n",
       "    <tr>\n",
       "      <th>99</th>\n",
       "      <td>West Virginia</td>\n",
       "      <td>4.419896883</td>\n",
       "      <td>2</td>\n",
       "      <td>NaN</td>\n",
       "      <td>NaN</td>\n",
       "    </tr>\n",
       "    <tr>\n",
       "      <th>100</th>\n",
       "      <td>Wisconsin</td>\n",
       "      <td>4.231806383</td>\n",
       "      <td>2</td>\n",
       "      <td>NaN</td>\n",
       "      <td>NaN</td>\n",
       "    </tr>\n",
       "    <tr>\n",
       "      <th>101</th>\n",
       "      <td>Wyoming</td>\n",
       "      <td>5.400402884</td>\n",
       "      <td>2</td>\n",
       "      <td>NaN</td>\n",
       "      <td>NaN</td>\n",
       "    </tr>\n",
       "  </tbody>\n",
       "</table>\n",
       "<p>102 rows × 5 columns</p>\n",
       "</div>"
      ],
      "text/plain": [
       "              State   Percentage  adult=1 youth=2  adult percentage  \\\n",
       "0          Alabama          7.46                1              7.46   \n",
       "1           Alaska          9.76                1              9.76   \n",
       "2          Arizona          7.36                1              7.36   \n",
       "3         Arkansas          8.02                1              8.02   \n",
       "4       California          8.12                1              8.12   \n",
       "..              ...          ...              ...               ...   \n",
       "97        Virginia   3.645123485                2               NaN   \n",
       "98      Washington   5.180724175                2               NaN   \n",
       "99   West Virginia   4.419896883                2               NaN   \n",
       "100      Wisconsin   4.231806383                2               NaN   \n",
       "101        Wyoming   5.400402884                2               NaN   \n",
       "\n",
       "     youth percentage  \n",
       "0            3.961136  \n",
       "1            6.539439  \n",
       "2            4.769366  \n",
       "3            4.103869  \n",
       "4            4.625461  \n",
       "..                ...  \n",
       "97                NaN  \n",
       "98                NaN  \n",
       "99                NaN  \n",
       "100               NaN  \n",
       "101               NaN  \n",
       "\n",
       "[102 rows x 5 columns]"
      ]
     },
     "execution_count": 133,
     "metadata": {},
     "output_type": "execute_result"
    }
   ],
   "source": [
    "input1 = pd.read_csv(\"input/input_1.csv\")\n",
    "input1"
   ]
  },
  {
   "cell_type": "code",
   "execution_count": 75,
   "metadata": {},
   "outputs": [
    {
     "name": "stdout",
     "output_type": "stream",
     "text": [
      "Adult and Youth by Number:  [1, 1, 1, 1, 1, 1, 1, 1, 1, 1, 1, 1, 1, 1, 1, 1, 1, 1, 1, 1, 1, 1, 1, 1, 1, 1, 1, 1, 1, 1, 1, 1, 1, 1, 1, 1, 1, 1, 1, 1, 1, 1, 1, 1, 1, 1, 1, 1, 1, 1, 1, 2, 2, 2, 2, 2, 2, 2, 2, 2, 2, 2, 2, 2, 2, 2, 2, 2, 2, 2, 2, 2, 2, 2, 2, 2, 2, 2, 2, 2, 2, 2, 2, 2, 2, 2, 2, 2, 2, 2, 2, 2, 2, 2, 2, 2, 2, 2, 2, 2, 2, 2]\n",
      "Percentage:  ['7.46', '9.76', '7.36', '8.02', '8.12', '11.9', '8.82', '8.76', '13.01', '6.68', '6.77', '7.13', '7.76', '8.16', '7.39', '9.13', '7.27', '7.46', '8.69', '9.27', '6.89', '9.34', '7.47', '7.24', '6.77', '7.57', '9.41', '8.01', '9', '9.09', '7.01', '7.53', '7.57', '6.95', '8.79', '7.64', '8.54', '9.94', '7.3', '8.8', '7.6', '9.17', '6.95', '6.34', '6.42', '10.51', '7.32', '8.53', '6.76', '8.68', '7.25', '3.961135797', '6.539439208', '4.769366312', '4.103869488', '4.625460574', '5.597954012', '4.639595161', '4.321874967', '5.143210752', '4.535326733\\xa0', '3.182475035', '3.925247869', '4.646841263', '4.666726976', '3.291448092', '4.177114319', '4.088204261', '3.620369457', '3.886166165', '4.746754906', '3.449672251', '4.260760958', '3.869633218', '4.274638216', '3.493247299\\xa0', '3.719937618\\xa0', '6.295415565', '4.048445012', '5.195238999', '4.254965351', '3.342732377', '6.014429216', '4.038806972', '3.627702805\\xa0', '4.385811586', '3.991856442', '4.359725042', '5.304943479', '3.185802626', '4.689070325', '4.086818098', '5.586386863', '3.855519348', '3.614661795', '3.839603996', '5.465448491', '3.645123485', '5.180724175', '4.419896883', '4.231806383', '5.400402884']\n"
     ]
    }
   ],
   "source": [
    "#convert two columns to lists\n",
    "list_of_ppl = input1['adult=1 youth=2'].to_list()\n",
    "print('Adult and Youth by Number: ', list_of_ppl)\n",
    "percent_list = input1['Percentage'].to_list()\n",
    "print('Percentage: ', percent_list)"
   ]
  },
  {
   "cell_type": "code",
   "execution_count": 84,
   "metadata": {},
   "outputs": [
    {
     "name": "stdout",
     "output_type": "stream",
     "text": [
      "p = 3.37025e-05\n",
      "The null hypothesis can be rejected\n"
     ]
    }
   ],
   "source": [
    "new_percent = np.array(percent_list).astype(np.float)\n",
    "x = np.concatenate((list_of_ppl, new_percent))\n",
    "k2, p = stats.normaltest(x)\n",
    "alpha = 1e-3\n",
    "print(\"p = {:g}\".format(p))\n",
    "if p < alpha:  # null hypothesis: x comes from a normal distribution\n",
    "    print(\"The null hypothesis can be rejected\")\n",
    "else:\n",
    "    print(\"The null hypothesis cannot be rejected\")\n"
   ]
  },
  {
   "cell_type": "code",
   "execution_count": 135,
   "metadata": {},
   "outputs": [
    {
     "data": {
      "text/html": [
       "\n",
       "<div id=\"altair-viz-67b2209d96c04660b15272d70ce8b989\"></div>\n",
       "<script type=\"text/javascript\">\n",
       "  (function(spec, embedOpt){\n",
       "    let outputDiv = document.currentScript.previousElementSibling;\n",
       "    if (outputDiv.id !== \"altair-viz-67b2209d96c04660b15272d70ce8b989\") {\n",
       "      outputDiv = document.getElementById(\"altair-viz-67b2209d96c04660b15272d70ce8b989\");\n",
       "    }\n",
       "    const paths = {\n",
       "      \"vega\": \"https://cdn.jsdelivr.net/npm//vega@5?noext\",\n",
       "      \"vega-lib\": \"https://cdn.jsdelivr.net/npm//vega-lib?noext\",\n",
       "      \"vega-lite\": \"https://cdn.jsdelivr.net/npm//vega-lite@4.8.1?noext\",\n",
       "      \"vega-embed\": \"https://cdn.jsdelivr.net/npm//vega-embed@6?noext\",\n",
       "    };\n",
       "\n",
       "    function loadScript(lib) {\n",
       "      return new Promise(function(resolve, reject) {\n",
       "        var s = document.createElement('script');\n",
       "        s.src = paths[lib];\n",
       "        s.async = true;\n",
       "        s.onload = () => resolve(paths[lib]);\n",
       "        s.onerror = () => reject(`Error loading script: ${paths[lib]}`);\n",
       "        document.getElementsByTagName(\"head\")[0].appendChild(s);\n",
       "      });\n",
       "    }\n",
       "\n",
       "    function showError(err) {\n",
       "      outputDiv.innerHTML = `<div class=\"error\" style=\"color:red;\">${err}</div>`;\n",
       "      throw err;\n",
       "    }\n",
       "\n",
       "    function displayChart(vegaEmbed) {\n",
       "      vegaEmbed(outputDiv, spec, embedOpt)\n",
       "        .catch(err => showError(`Javascript Error: ${err.message}<br>This usually means there's a typo in your chart specification. See the javascript console for the full traceback.`));\n",
       "    }\n",
       "\n",
       "    if(typeof define === \"function\" && define.amd) {\n",
       "      requirejs.config({paths});\n",
       "      require([\"vega-embed\"], displayChart, err => showError(`Error loading script: ${err.message}`));\n",
       "    } else if (typeof vegaEmbed === \"function\") {\n",
       "      displayChart(vegaEmbed);\n",
       "    } else {\n",
       "      loadScript(\"vega\")\n",
       "        .then(() => loadScript(\"vega-lite\"))\n",
       "        .then(() => loadScript(\"vega-embed\"))\n",
       "        .catch(showError)\n",
       "        .then(() => displayChart(vegaEmbed));\n",
       "    }\n",
       "  })({\"config\": {\"view\": {\"continuousWidth\": 400, \"continuousHeight\": 300}}, \"data\": {\"name\": \"data-16db6878e0e553bd9525c5d362d36449\"}, \"mark\": \"bar\", \"encoding\": {\"x\": {\"type\": \"nominal\", \"field\": \"Percentage\"}, \"y\": {\"type\": \"quantitative\", \"field\": \"adult=1 youth=2\"}}, \"$schema\": \"https://vega.github.io/schema/vega-lite/v4.8.1.json\", \"datasets\": {\"data-16db6878e0e553bd9525c5d362d36449\": [{\"State\": \"Alabama\\u00a0\", \"Percentage\": \"7.46\", \"adult=1 youth=2\": 1, \"adult percentage\": 7.46, \"youth percentage\": 3.961135797}, {\"State\": \"Alaska\\u00a0\", \"Percentage\": \"9.76\", \"adult=1 youth=2\": 1, \"adult percentage\": 9.76, \"youth percentage\": 6.539439207999999}, {\"State\": \"Arizona\\u00a0\", \"Percentage\": \"7.36\", \"adult=1 youth=2\": 1, \"adult percentage\": 7.36, \"youth percentage\": 4.769366312}, {\"State\": \"Arkansas\\u00a0\", \"Percentage\": \"8.02\", \"adult=1 youth=2\": 1, \"adult percentage\": 8.02, \"youth percentage\": 4.103869488}, {\"State\": \"California\\u00a0\", \"Percentage\": \"8.12\", \"adult=1 youth=2\": 1, \"adult percentage\": 8.12, \"youth percentage\": 4.625460574}, {\"State\": \"Colorado\\u00a0\", \"Percentage\": \"11.9\", \"adult=1 youth=2\": 1, \"adult percentage\": 11.9, \"youth percentage\": 5.597954012000001}, {\"State\": \"Connecticut\\u00a0\", \"Percentage\": \"8.82\", \"adult=1 youth=2\": 1, \"adult percentage\": 8.82, \"youth percentage\": 4.639595161}, {\"State\": \"Delaware\\u00a0\", \"Percentage\": \"8.76\", \"adult=1 youth=2\": 1, \"adult percentage\": 8.76, \"youth percentage\": 4.321874967}, {\"State\": \"District of Columbia\\u00a0\", \"Percentage\": \"13.01\", \"adult=1 youth=2\": 1, \"adult percentage\": 13.01, \"youth percentage\": 5.143210752}, {\"State\": \"Florida\\u00a0\", \"Percentage\": \"6.68\", \"adult=1 youth=2\": 1, \"adult percentage\": 6.68, \"youth percentage\": 4.535326733}, {\"State\": \"Georgia\\u00a0\", \"Percentage\": \"6.77\", \"adult=1 youth=2\": 1, \"adult percentage\": 6.77, \"youth percentage\": 3.182475035}, {\"State\": \"Hawaii\\u00a0\", \"Percentage\": \"7.13\", \"adult=1 youth=2\": 1, \"adult percentage\": 7.13, \"youth percentage\": 3.9252478689999997}, {\"State\": \"Idaho\\u00a0\", \"Percentage\": \"7.76\", \"adult=1 youth=2\": 1, \"adult percentage\": 7.76, \"youth percentage\": 4.646841263}, {\"State\": \"Illinois\\u00a0\", \"Percentage\": \"8.16\", \"adult=1 youth=2\": 1, \"adult percentage\": 8.16, \"youth percentage\": 4.6667269760000005}, {\"State\": \"Indiana\\u00a0\", \"Percentage\": \"7.39\", \"adult=1 youth=2\": 1, \"adult percentage\": 7.39, \"youth percentage\": 3.291448092}, {\"State\": \"Iowa\\u00a0\", \"Percentage\": \"9.13\", \"adult=1 youth=2\": 1, \"adult percentage\": 9.13, \"youth percentage\": 4.177114319}, {\"State\": \"Kansas\\u00a0\", \"Percentage\": \"7.27\", \"adult=1 youth=2\": 1, \"adult percentage\": 7.27, \"youth percentage\": 4.0882042610000005}, {\"State\": \"Kentucky\\u00a0\", \"Percentage\": \"7.46\", \"adult=1 youth=2\": 1, \"adult percentage\": 7.46, \"youth percentage\": 3.620369457}, {\"State\": \"Louisiana\\u00a0\", \"Percentage\": \"8.69\", \"adult=1 youth=2\": 1, \"adult percentage\": 8.69, \"youth percentage\": 3.886166165}, {\"State\": \"Maine\\u00a0\", \"Percentage\": \"9.27\", \"adult=1 youth=2\": 1, \"adult percentage\": 9.27, \"youth percentage\": 4.7467549060000005}, {\"State\": \"Maryland\\u00a0\", \"Percentage\": \"6.89\", \"adult=1 youth=2\": 1, \"adult percentage\": 6.89, \"youth percentage\": 3.4496722510000004}, {\"State\": \"Massachusetts\\u00a0\", \"Percentage\": \"9.34\", \"adult=1 youth=2\": 1, \"adult percentage\": 9.34, \"youth percentage\": 4.2607609580000005}, {\"State\": \"Michigan\\u00a0\", \"Percentage\": \"7.47\", \"adult=1 youth=2\": 1, \"adult percentage\": 7.47, \"youth percentage\": 3.869633218}, {\"State\": \"Minnesota\\u00a0\", \"Percentage\": \"7.24\", \"adult=1 youth=2\": 1, \"adult percentage\": 7.24, \"youth percentage\": 4.2746382160000005}, {\"State\": \"Mississippi\\u00a0\", \"Percentage\": \"6.77\", \"adult=1 youth=2\": 1, \"adult percentage\": 6.77, \"youth percentage\": 3.4932472989999996}, {\"State\": \"Missouri\\u00a0\", \"Percentage\": \"7.57\", \"adult=1 youth=2\": 1, \"adult percentage\": 7.57, \"youth percentage\": 3.7199376180000003}, {\"State\": \"Montana\\u00a0\", \"Percentage\": \"9.41\", \"adult=1 youth=2\": 1, \"adult percentage\": 9.41, \"youth percentage\": 6.295415565}, {\"State\": \"Nebraska\\u00a0\", \"Percentage\": \"8.01\", \"adult=1 youth=2\": 1, \"adult percentage\": 8.01, \"youth percentage\": 4.048445012}, {\"State\": \"Nevada\\u00a0\", \"Percentage\": \"9\", \"adult=1 youth=2\": 1, \"adult percentage\": 9.0, \"youth percentage\": 5.195238999}, {\"State\": \"New Hampshire\\u00a0\", \"Percentage\": \"9.09\", \"adult=1 youth=2\": 1, \"adult percentage\": 9.09, \"youth percentage\": 4.254965351}, {\"State\": \"New Jersey\\u00a0\", \"Percentage\": \"7.01\", \"adult=1 youth=2\": 1, \"adult percentage\": 7.01, \"youth percentage\": 3.342732377}, {\"State\": \"New Mexico\\u00a0\", \"Percentage\": \"7.53\", \"adult=1 youth=2\": 1, \"adult percentage\": 7.53, \"youth percentage\": 6.014429216}, {\"State\": \"New York\\u00a0\", \"Percentage\": \"7.57\", \"adult=1 youth=2\": 1, \"adult percentage\": 7.57, \"youth percentage\": 4.038806972}, {\"State\": \"North Carolina\\u00a0\", \"Percentage\": \"6.95\", \"adult=1 youth=2\": 1, \"adult percentage\": 6.95, \"youth percentage\": 3.627702805}, {\"State\": \"North Dakota\\u00a0\", \"Percentage\": \"8.79\", \"adult=1 youth=2\": 1, \"adult percentage\": 8.79, \"youth percentage\": 4.385811586}, {\"State\": \"Ohio\\u00a0\", \"Percentage\": \"7.64\", \"adult=1 youth=2\": 1, \"adult percentage\": 7.64, \"youth percentage\": 3.991856442}, {\"State\": \"Oklahoma\\u00a0\", \"Percentage\": \"8.54\", \"adult=1 youth=2\": 1, \"adult percentage\": 8.54, \"youth percentage\": 4.359725042}, {\"State\": \"Oregon\\u00a0\", \"Percentage\": \"9.94\", \"adult=1 youth=2\": 1, \"adult percentage\": 9.94, \"youth percentage\": 5.304943478999999}, {\"State\": \"Pennsylvania\\u00a0\", \"Percentage\": \"7.3\", \"adult=1 youth=2\": 1, \"adult percentage\": 7.3, \"youth percentage\": 3.185802626}, {\"State\": \"Rhode Island\\u00a0\", \"Percentage\": \"8.8\", \"adult=1 youth=2\": 1, \"adult percentage\": 8.8, \"youth percentage\": 4.689070325}, {\"State\": \"South Carolina\\u00a0\", \"Percentage\": \"7.6\", \"adult=1 youth=2\": 1, \"adult percentage\": 7.6, \"youth percentage\": 4.086818098}, {\"State\": \"South Dakota\\u00a0\", \"Percentage\": \"9.17\", \"adult=1 youth=2\": 1, \"adult percentage\": 9.17, \"youth percentage\": 5.5863868629999995}, {\"State\": \"Tennessee\\u00a0\", \"Percentage\": \"6.95\", \"adult=1 youth=2\": 1, \"adult percentage\": 6.95, \"youth percentage\": 3.855519348}, {\"State\": \"Texas\\u00a0\", \"Percentage\": \"6.34\", \"adult=1 youth=2\": 1, \"adult percentage\": 6.34, \"youth percentage\": 3.614661795}, {\"State\": \"Utah\\u00a0\", \"Percentage\": \"6.42\", \"adult=1 youth=2\": 1, \"adult percentage\": 6.42, \"youth percentage\": 3.839603996}, {\"State\": \"Vermont\\u00a0\", \"Percentage\": \"10.51\", \"adult=1 youth=2\": 1, \"adult percentage\": 10.51, \"youth percentage\": 5.465448491}, {\"State\": \"Virginia\\u00a0\", \"Percentage\": \"7.32\", \"adult=1 youth=2\": 1, \"adult percentage\": 7.32, \"youth percentage\": 3.645123485}, {\"State\": \"Washington\\u00a0\", \"Percentage\": \"8.53\", \"adult=1 youth=2\": 1, \"adult percentage\": 8.53, \"youth percentage\": 5.180724175}, {\"State\": \"West Virginia\\u00a0\", \"Percentage\": \"6.76\", \"adult=1 youth=2\": 1, \"adult percentage\": 6.76, \"youth percentage\": 4.419896883}, {\"State\": \"Wisconsin\\u00a0\", \"Percentage\": \"8.68\", \"adult=1 youth=2\": 1, \"adult percentage\": 8.68, \"youth percentage\": 4.231806383}, {\"State\": \"Wyoming\\u00a0\", \"Percentage\": \"7.25\", \"adult=1 youth=2\": 1, \"adult percentage\": 7.25, \"youth percentage\": 5.400402884}, {\"State\": \"Alabama\\u00a0\", \"Percentage\": \"3.961135797\", \"adult=1 youth=2\": 2, \"adult percentage\": null, \"youth percentage\": null}, {\"State\": \"Alaska\\u00a0\", \"Percentage\": \"6.539439208\", \"adult=1 youth=2\": 2, \"adult percentage\": null, \"youth percentage\": null}, {\"State\": \"Arizona\\u00a0\", \"Percentage\": \"4.769366312\", \"adult=1 youth=2\": 2, \"adult percentage\": null, \"youth percentage\": null}, {\"State\": \"Arkansas\\u00a0\", \"Percentage\": \"4.103869488\", \"adult=1 youth=2\": 2, \"adult percentage\": null, \"youth percentage\": null}, {\"State\": \"California\\u00a0\", \"Percentage\": \"4.625460574\", \"adult=1 youth=2\": 2, \"adult percentage\": null, \"youth percentage\": null}, {\"State\": \"Colorado\\u00a0\", \"Percentage\": \"5.597954012\", \"adult=1 youth=2\": 2, \"adult percentage\": null, \"youth percentage\": null}, {\"State\": \"Connecticut\\u00a0\", \"Percentage\": \"4.639595161\", \"adult=1 youth=2\": 2, \"adult percentage\": null, \"youth percentage\": null}, {\"State\": \"Delaware\\u00a0\", \"Percentage\": \"4.321874967\", \"adult=1 youth=2\": 2, \"adult percentage\": null, \"youth percentage\": null}, {\"State\": \"District of Columbia\\u00a0\", \"Percentage\": \"5.143210752\", \"adult=1 youth=2\": 2, \"adult percentage\": null, \"youth percentage\": null}, {\"State\": \"Florida\\u00a0\", \"Percentage\": \"4.535326733\\u00a0\", \"adult=1 youth=2\": 2, \"adult percentage\": null, \"youth percentage\": null}, {\"State\": \"Georgia\\u00a0\", \"Percentage\": \"3.182475035\", \"adult=1 youth=2\": 2, \"adult percentage\": null, \"youth percentage\": null}, {\"State\": \"Hawaii\\u00a0\", \"Percentage\": \"3.925247869\", \"adult=1 youth=2\": 2, \"adult percentage\": null, \"youth percentage\": null}, {\"State\": \"Idaho\\u00a0\", \"Percentage\": \"4.646841263\", \"adult=1 youth=2\": 2, \"adult percentage\": null, \"youth percentage\": null}, {\"State\": \"Illinois\\u00a0\", \"Percentage\": \"4.666726976\", \"adult=1 youth=2\": 2, \"adult percentage\": null, \"youth percentage\": null}, {\"State\": \"Indiana\\u00a0\", \"Percentage\": \"3.291448092\", \"adult=1 youth=2\": 2, \"adult percentage\": null, \"youth percentage\": null}, {\"State\": \"Iowa\\u00a0\", \"Percentage\": \"4.177114319\", \"adult=1 youth=2\": 2, \"adult percentage\": null, \"youth percentage\": null}, {\"State\": \"Kansas\\u00a0\", \"Percentage\": \"4.088204261\", \"adult=1 youth=2\": 2, \"adult percentage\": null, \"youth percentage\": null}, {\"State\": \"Kentucky\\u00a0\", \"Percentage\": \"3.620369457\", \"adult=1 youth=2\": 2, \"adult percentage\": null, \"youth percentage\": null}, {\"State\": \"Louisiana\\u00a0\", \"Percentage\": \"3.886166165\", \"adult=1 youth=2\": 2, \"adult percentage\": null, \"youth percentage\": null}, {\"State\": \"Maine\\u00a0\", \"Percentage\": \"4.746754906\", \"adult=1 youth=2\": 2, \"adult percentage\": null, \"youth percentage\": null}, {\"State\": \"Maryland\\u00a0\", \"Percentage\": \"3.449672251\", \"adult=1 youth=2\": 2, \"adult percentage\": null, \"youth percentage\": null}, {\"State\": \"Massachusetts\\u00a0\", \"Percentage\": \"4.260760958\", \"adult=1 youth=2\": 2, \"adult percentage\": null, \"youth percentage\": null}, {\"State\": \"Michigan\\u00a0\", \"Percentage\": \"3.869633218\", \"adult=1 youth=2\": 2, \"adult percentage\": null, \"youth percentage\": null}, {\"State\": \"Minnesota\\u00a0\", \"Percentage\": \"4.274638216\", \"adult=1 youth=2\": 2, \"adult percentage\": null, \"youth percentage\": null}, {\"State\": \"Mississippi\\u00a0\", \"Percentage\": \"3.493247299\\u00a0\", \"adult=1 youth=2\": 2, \"adult percentage\": null, \"youth percentage\": null}, {\"State\": \"Missouri\\u00a0\", \"Percentage\": \"3.719937618\\u00a0\", \"adult=1 youth=2\": 2, \"adult percentage\": null, \"youth percentage\": null}, {\"State\": \"Montana\\u00a0\", \"Percentage\": \"6.295415565\", \"adult=1 youth=2\": 2, \"adult percentage\": null, \"youth percentage\": null}, {\"State\": \"Nebraska\\u00a0\", \"Percentage\": \"4.048445012\", \"adult=1 youth=2\": 2, \"adult percentage\": null, \"youth percentage\": null}, {\"State\": \"Nevada\\u00a0\", \"Percentage\": \"5.195238999\", \"adult=1 youth=2\": 2, \"adult percentage\": null, \"youth percentage\": null}, {\"State\": \"New Hampshire\\u00a0\", \"Percentage\": \"4.254965351\", \"adult=1 youth=2\": 2, \"adult percentage\": null, \"youth percentage\": null}, {\"State\": \"New Jersey\\u00a0\", \"Percentage\": \"3.342732377\", \"adult=1 youth=2\": 2, \"adult percentage\": null, \"youth percentage\": null}, {\"State\": \"New Mexico\\u00a0\", \"Percentage\": \"6.014429216\", \"adult=1 youth=2\": 2, \"adult percentage\": null, \"youth percentage\": null}, {\"State\": \"New York\\u00a0\", \"Percentage\": \"4.038806972\", \"adult=1 youth=2\": 2, \"adult percentage\": null, \"youth percentage\": null}, {\"State\": \"North Carolina\\u00a0\", \"Percentage\": \"3.627702805\\u00a0\", \"adult=1 youth=2\": 2, \"adult percentage\": null, \"youth percentage\": null}, {\"State\": \"North Dakota\\u00a0\", \"Percentage\": \"4.385811586\", \"adult=1 youth=2\": 2, \"adult percentage\": null, \"youth percentage\": null}, {\"State\": \"Ohio\\u00a0\", \"Percentage\": \"3.991856442\", \"adult=1 youth=2\": 2, \"adult percentage\": null, \"youth percentage\": null}, {\"State\": \"Oklahoma\\u00a0\", \"Percentage\": \"4.359725042\", \"adult=1 youth=2\": 2, \"adult percentage\": null, \"youth percentage\": null}, {\"State\": \"Oregon\\u00a0\", \"Percentage\": \"5.304943479\", \"adult=1 youth=2\": 2, \"adult percentage\": null, \"youth percentage\": null}, {\"State\": \"Pennsylvania\\u00a0\", \"Percentage\": \"3.185802626\", \"adult=1 youth=2\": 2, \"adult percentage\": null, \"youth percentage\": null}, {\"State\": \"Rhode Island\\u00a0\", \"Percentage\": \"4.689070325\", \"adult=1 youth=2\": 2, \"adult percentage\": null, \"youth percentage\": null}, {\"State\": \"South Carolina\\u00a0\", \"Percentage\": \"4.086818098\", \"adult=1 youth=2\": 2, \"adult percentage\": null, \"youth percentage\": null}, {\"State\": \"South Dakota\\u00a0\", \"Percentage\": \"5.586386863\", \"adult=1 youth=2\": 2, \"adult percentage\": null, \"youth percentage\": null}, {\"State\": \"Tennessee\\u00a0\", \"Percentage\": \"3.855519348\", \"adult=1 youth=2\": 2, \"adult percentage\": null, \"youth percentage\": null}, {\"State\": \"Texas\\u00a0\", \"Percentage\": \"3.614661795\", \"adult=1 youth=2\": 2, \"adult percentage\": null, \"youth percentage\": null}, {\"State\": \"Utah\\u00a0\", \"Percentage\": \"3.839603996\", \"adult=1 youth=2\": 2, \"adult percentage\": null, \"youth percentage\": null}, {\"State\": \"Vermont\\u00a0\", \"Percentage\": \"5.465448491\", \"adult=1 youth=2\": 2, \"adult percentage\": null, \"youth percentage\": null}, {\"State\": \"Virginia\\u00a0\", \"Percentage\": \"3.645123485\", \"adult=1 youth=2\": 2, \"adult percentage\": null, \"youth percentage\": null}, {\"State\": \"Washington\\u00a0\", \"Percentage\": \"5.180724175\", \"adult=1 youth=2\": 2, \"adult percentage\": null, \"youth percentage\": null}, {\"State\": \"West Virginia\\u00a0\", \"Percentage\": \"4.419896883\", \"adult=1 youth=2\": 2, \"adult percentage\": null, \"youth percentage\": null}, {\"State\": \"Wisconsin\\u00a0\", \"Percentage\": \"4.231806383\", \"adult=1 youth=2\": 2, \"adult percentage\": null, \"youth percentage\": null}, {\"State\": \"Wyoming\\u00a0\", \"Percentage\": \"5.400402884\", \"adult=1 youth=2\": 2, \"adult percentage\": null, \"youth percentage\": null}]}}, {\"mode\": \"vega-lite\"});\n",
       "</script>"
      ],
      "text/plain": [
       "alt.Chart(...)"
      ]
     },
     "execution_count": 135,
     "metadata": {},
     "output_type": "execute_result"
    }
   ],
   "source": [
    "#bar chart\n",
    "alt.Chart(input1).mark_bar().encode(\n",
    "    x='Percentage',\n",
    "    y='adult=1 youth=2'\n",
    ")"
   ]
  },
  {
   "cell_type": "code",
   "execution_count": 86,
   "metadata": {},
   "outputs": [
    {
     "data": {
      "text/plain": [
       "Ttest_indResult(statistic=-21.500486757724975, pvalue=4.07515488031289e-54)"
      ]
     },
     "execution_count": 86,
     "metadata": {},
     "output_type": "execute_result"
    }
   ],
   "source": [
    "from scipy.stats import ttest_ind\n",
    "ttest_ind(list_of_ppl, new_percent)"
   ]
  },
  {
   "cell_type": "code",
   "execution_count": 138,
   "metadata": {},
   "outputs": [
    {
     "data": {
      "text/html": [
       "\n",
       "<div id=\"altair-viz-31875b21efa84540adec7845e142a8e8\"></div>\n",
       "<script type=\"text/javascript\">\n",
       "  (function(spec, embedOpt){\n",
       "    let outputDiv = document.currentScript.previousElementSibling;\n",
       "    if (outputDiv.id !== \"altair-viz-31875b21efa84540adec7845e142a8e8\") {\n",
       "      outputDiv = document.getElementById(\"altair-viz-31875b21efa84540adec7845e142a8e8\");\n",
       "    }\n",
       "    const paths = {\n",
       "      \"vega\": \"https://cdn.jsdelivr.net/npm//vega@5?noext\",\n",
       "      \"vega-lib\": \"https://cdn.jsdelivr.net/npm//vega-lib?noext\",\n",
       "      \"vega-lite\": \"https://cdn.jsdelivr.net/npm//vega-lite@4.8.1?noext\",\n",
       "      \"vega-embed\": \"https://cdn.jsdelivr.net/npm//vega-embed@6?noext\",\n",
       "    };\n",
       "\n",
       "    function loadScript(lib) {\n",
       "      return new Promise(function(resolve, reject) {\n",
       "        var s = document.createElement('script');\n",
       "        s.src = paths[lib];\n",
       "        s.async = true;\n",
       "        s.onload = () => resolve(paths[lib]);\n",
       "        s.onerror = () => reject(`Error loading script: ${paths[lib]}`);\n",
       "        document.getElementsByTagName(\"head\")[0].appendChild(s);\n",
       "      });\n",
       "    }\n",
       "\n",
       "    function showError(err) {\n",
       "      outputDiv.innerHTML = `<div class=\"error\" style=\"color:red;\">${err}</div>`;\n",
       "      throw err;\n",
       "    }\n",
       "\n",
       "    function displayChart(vegaEmbed) {\n",
       "      vegaEmbed(outputDiv, spec, embedOpt)\n",
       "        .catch(err => showError(`Javascript Error: ${err.message}<br>This usually means there's a typo in your chart specification. See the javascript console for the full traceback.`));\n",
       "    }\n",
       "\n",
       "    if(typeof define === \"function\" && define.amd) {\n",
       "      requirejs.config({paths});\n",
       "      require([\"vega-embed\"], displayChart, err => showError(`Error loading script: ${err.message}`));\n",
       "    } else if (typeof vegaEmbed === \"function\") {\n",
       "      displayChart(vegaEmbed);\n",
       "    } else {\n",
       "      loadScript(\"vega\")\n",
       "        .then(() => loadScript(\"vega-lite\"))\n",
       "        .then(() => loadScript(\"vega-embed\"))\n",
       "        .catch(showError)\n",
       "        .then(() => displayChart(vegaEmbed));\n",
       "    }\n",
       "  })({\"config\": {\"view\": {\"continuousWidth\": 400, \"continuousHeight\": 300}}, \"data\": {\"name\": \"data-16db6878e0e553bd9525c5d362d36449\"}, \"mark\": \"boxplot\", \"encoding\": {\"x\": {\"type\": \"quantitative\", \"field\": \"Percentage\"}, \"y\": {\"type\": \"ordinal\", \"field\": \"adult=1 youth=2\"}}, \"$schema\": \"https://vega.github.io/schema/vega-lite/v4.8.1.json\", \"datasets\": {\"data-16db6878e0e553bd9525c5d362d36449\": [{\"State\": \"Alabama\\u00a0\", \"Percentage\": \"7.46\", \"adult=1 youth=2\": 1, \"adult percentage\": 7.46, \"youth percentage\": 3.961135797}, {\"State\": \"Alaska\\u00a0\", \"Percentage\": \"9.76\", \"adult=1 youth=2\": 1, \"adult percentage\": 9.76, \"youth percentage\": 6.539439207999999}, {\"State\": \"Arizona\\u00a0\", \"Percentage\": \"7.36\", \"adult=1 youth=2\": 1, \"adult percentage\": 7.36, \"youth percentage\": 4.769366312}, {\"State\": \"Arkansas\\u00a0\", \"Percentage\": \"8.02\", \"adult=1 youth=2\": 1, \"adult percentage\": 8.02, \"youth percentage\": 4.103869488}, {\"State\": \"California\\u00a0\", \"Percentage\": \"8.12\", \"adult=1 youth=2\": 1, \"adult percentage\": 8.12, \"youth percentage\": 4.625460574}, {\"State\": \"Colorado\\u00a0\", \"Percentage\": \"11.9\", \"adult=1 youth=2\": 1, \"adult percentage\": 11.9, \"youth percentage\": 5.597954012000001}, {\"State\": \"Connecticut\\u00a0\", \"Percentage\": \"8.82\", \"adult=1 youth=2\": 1, \"adult percentage\": 8.82, \"youth percentage\": 4.639595161}, {\"State\": \"Delaware\\u00a0\", \"Percentage\": \"8.76\", \"adult=1 youth=2\": 1, \"adult percentage\": 8.76, \"youth percentage\": 4.321874967}, {\"State\": \"District of Columbia\\u00a0\", \"Percentage\": \"13.01\", \"adult=1 youth=2\": 1, \"adult percentage\": 13.01, \"youth percentage\": 5.143210752}, {\"State\": \"Florida\\u00a0\", \"Percentage\": \"6.68\", \"adult=1 youth=2\": 1, \"adult percentage\": 6.68, \"youth percentage\": 4.535326733}, {\"State\": \"Georgia\\u00a0\", \"Percentage\": \"6.77\", \"adult=1 youth=2\": 1, \"adult percentage\": 6.77, \"youth percentage\": 3.182475035}, {\"State\": \"Hawaii\\u00a0\", \"Percentage\": \"7.13\", \"adult=1 youth=2\": 1, \"adult percentage\": 7.13, \"youth percentage\": 3.9252478689999997}, {\"State\": \"Idaho\\u00a0\", \"Percentage\": \"7.76\", \"adult=1 youth=2\": 1, \"adult percentage\": 7.76, \"youth percentage\": 4.646841263}, {\"State\": \"Illinois\\u00a0\", \"Percentage\": \"8.16\", \"adult=1 youth=2\": 1, \"adult percentage\": 8.16, \"youth percentage\": 4.6667269760000005}, {\"State\": \"Indiana\\u00a0\", \"Percentage\": \"7.39\", \"adult=1 youth=2\": 1, \"adult percentage\": 7.39, \"youth percentage\": 3.291448092}, {\"State\": \"Iowa\\u00a0\", \"Percentage\": \"9.13\", \"adult=1 youth=2\": 1, \"adult percentage\": 9.13, \"youth percentage\": 4.177114319}, {\"State\": \"Kansas\\u00a0\", \"Percentage\": \"7.27\", \"adult=1 youth=2\": 1, \"adult percentage\": 7.27, \"youth percentage\": 4.0882042610000005}, {\"State\": \"Kentucky\\u00a0\", \"Percentage\": \"7.46\", \"adult=1 youth=2\": 1, \"adult percentage\": 7.46, \"youth percentage\": 3.620369457}, {\"State\": \"Louisiana\\u00a0\", \"Percentage\": \"8.69\", \"adult=1 youth=2\": 1, \"adult percentage\": 8.69, \"youth percentage\": 3.886166165}, {\"State\": \"Maine\\u00a0\", \"Percentage\": \"9.27\", \"adult=1 youth=2\": 1, \"adult percentage\": 9.27, \"youth percentage\": 4.7467549060000005}, {\"State\": \"Maryland\\u00a0\", \"Percentage\": \"6.89\", \"adult=1 youth=2\": 1, \"adult percentage\": 6.89, \"youth percentage\": 3.4496722510000004}, {\"State\": \"Massachusetts\\u00a0\", \"Percentage\": \"9.34\", \"adult=1 youth=2\": 1, \"adult percentage\": 9.34, \"youth percentage\": 4.2607609580000005}, {\"State\": \"Michigan\\u00a0\", \"Percentage\": \"7.47\", \"adult=1 youth=2\": 1, \"adult percentage\": 7.47, \"youth percentage\": 3.869633218}, {\"State\": \"Minnesota\\u00a0\", \"Percentage\": \"7.24\", \"adult=1 youth=2\": 1, \"adult percentage\": 7.24, \"youth percentage\": 4.2746382160000005}, {\"State\": \"Mississippi\\u00a0\", \"Percentage\": \"6.77\", \"adult=1 youth=2\": 1, \"adult percentage\": 6.77, \"youth percentage\": 3.4932472989999996}, {\"State\": \"Missouri\\u00a0\", \"Percentage\": \"7.57\", \"adult=1 youth=2\": 1, \"adult percentage\": 7.57, \"youth percentage\": 3.7199376180000003}, {\"State\": \"Montana\\u00a0\", \"Percentage\": \"9.41\", \"adult=1 youth=2\": 1, \"adult percentage\": 9.41, \"youth percentage\": 6.295415565}, {\"State\": \"Nebraska\\u00a0\", \"Percentage\": \"8.01\", \"adult=1 youth=2\": 1, \"adult percentage\": 8.01, \"youth percentage\": 4.048445012}, {\"State\": \"Nevada\\u00a0\", \"Percentage\": \"9\", \"adult=1 youth=2\": 1, \"adult percentage\": 9.0, \"youth percentage\": 5.195238999}, {\"State\": \"New Hampshire\\u00a0\", \"Percentage\": \"9.09\", \"adult=1 youth=2\": 1, \"adult percentage\": 9.09, \"youth percentage\": 4.254965351}, {\"State\": \"New Jersey\\u00a0\", \"Percentage\": \"7.01\", \"adult=1 youth=2\": 1, \"adult percentage\": 7.01, \"youth percentage\": 3.342732377}, {\"State\": \"New Mexico\\u00a0\", \"Percentage\": \"7.53\", \"adult=1 youth=2\": 1, \"adult percentage\": 7.53, \"youth percentage\": 6.014429216}, {\"State\": \"New York\\u00a0\", \"Percentage\": \"7.57\", \"adult=1 youth=2\": 1, \"adult percentage\": 7.57, \"youth percentage\": 4.038806972}, {\"State\": \"North Carolina\\u00a0\", \"Percentage\": \"6.95\", \"adult=1 youth=2\": 1, \"adult percentage\": 6.95, \"youth percentage\": 3.627702805}, {\"State\": \"North Dakota\\u00a0\", \"Percentage\": \"8.79\", \"adult=1 youth=2\": 1, \"adult percentage\": 8.79, \"youth percentage\": 4.385811586}, {\"State\": \"Ohio\\u00a0\", \"Percentage\": \"7.64\", \"adult=1 youth=2\": 1, \"adult percentage\": 7.64, \"youth percentage\": 3.991856442}, {\"State\": \"Oklahoma\\u00a0\", \"Percentage\": \"8.54\", \"adult=1 youth=2\": 1, \"adult percentage\": 8.54, \"youth percentage\": 4.359725042}, {\"State\": \"Oregon\\u00a0\", \"Percentage\": \"9.94\", \"adult=1 youth=2\": 1, \"adult percentage\": 9.94, \"youth percentage\": 5.304943478999999}, {\"State\": \"Pennsylvania\\u00a0\", \"Percentage\": \"7.3\", \"adult=1 youth=2\": 1, \"adult percentage\": 7.3, \"youth percentage\": 3.185802626}, {\"State\": \"Rhode Island\\u00a0\", \"Percentage\": \"8.8\", \"adult=1 youth=2\": 1, \"adult percentage\": 8.8, \"youth percentage\": 4.689070325}, {\"State\": \"South Carolina\\u00a0\", \"Percentage\": \"7.6\", \"adult=1 youth=2\": 1, \"adult percentage\": 7.6, \"youth percentage\": 4.086818098}, {\"State\": \"South Dakota\\u00a0\", \"Percentage\": \"9.17\", \"adult=1 youth=2\": 1, \"adult percentage\": 9.17, \"youth percentage\": 5.5863868629999995}, {\"State\": \"Tennessee\\u00a0\", \"Percentage\": \"6.95\", \"adult=1 youth=2\": 1, \"adult percentage\": 6.95, \"youth percentage\": 3.855519348}, {\"State\": \"Texas\\u00a0\", \"Percentage\": \"6.34\", \"adult=1 youth=2\": 1, \"adult percentage\": 6.34, \"youth percentage\": 3.614661795}, {\"State\": \"Utah\\u00a0\", \"Percentage\": \"6.42\", \"adult=1 youth=2\": 1, \"adult percentage\": 6.42, \"youth percentage\": 3.839603996}, {\"State\": \"Vermont\\u00a0\", \"Percentage\": \"10.51\", \"adult=1 youth=2\": 1, \"adult percentage\": 10.51, \"youth percentage\": 5.465448491}, {\"State\": \"Virginia\\u00a0\", \"Percentage\": \"7.32\", \"adult=1 youth=2\": 1, \"adult percentage\": 7.32, \"youth percentage\": 3.645123485}, {\"State\": \"Washington\\u00a0\", \"Percentage\": \"8.53\", \"adult=1 youth=2\": 1, \"adult percentage\": 8.53, \"youth percentage\": 5.180724175}, {\"State\": \"West Virginia\\u00a0\", \"Percentage\": \"6.76\", \"adult=1 youth=2\": 1, \"adult percentage\": 6.76, \"youth percentage\": 4.419896883}, {\"State\": \"Wisconsin\\u00a0\", \"Percentage\": \"8.68\", \"adult=1 youth=2\": 1, \"adult percentage\": 8.68, \"youth percentage\": 4.231806383}, {\"State\": \"Wyoming\\u00a0\", \"Percentage\": \"7.25\", \"adult=1 youth=2\": 1, \"adult percentage\": 7.25, \"youth percentage\": 5.400402884}, {\"State\": \"Alabama\\u00a0\", \"Percentage\": \"3.961135797\", \"adult=1 youth=2\": 2, \"adult percentage\": null, \"youth percentage\": null}, {\"State\": \"Alaska\\u00a0\", \"Percentage\": \"6.539439208\", \"adult=1 youth=2\": 2, \"adult percentage\": null, \"youth percentage\": null}, {\"State\": \"Arizona\\u00a0\", \"Percentage\": \"4.769366312\", \"adult=1 youth=2\": 2, \"adult percentage\": null, \"youth percentage\": null}, {\"State\": \"Arkansas\\u00a0\", \"Percentage\": \"4.103869488\", \"adult=1 youth=2\": 2, \"adult percentage\": null, \"youth percentage\": null}, {\"State\": \"California\\u00a0\", \"Percentage\": \"4.625460574\", \"adult=1 youth=2\": 2, \"adult percentage\": null, \"youth percentage\": null}, {\"State\": \"Colorado\\u00a0\", \"Percentage\": \"5.597954012\", \"adult=1 youth=2\": 2, \"adult percentage\": null, \"youth percentage\": null}, {\"State\": \"Connecticut\\u00a0\", \"Percentage\": \"4.639595161\", \"adult=1 youth=2\": 2, \"adult percentage\": null, \"youth percentage\": null}, {\"State\": \"Delaware\\u00a0\", \"Percentage\": \"4.321874967\", \"adult=1 youth=2\": 2, \"adult percentage\": null, \"youth percentage\": null}, {\"State\": \"District of Columbia\\u00a0\", \"Percentage\": \"5.143210752\", \"adult=1 youth=2\": 2, \"adult percentage\": null, \"youth percentage\": null}, {\"State\": \"Florida\\u00a0\", \"Percentage\": \"4.535326733\\u00a0\", \"adult=1 youth=2\": 2, \"adult percentage\": null, \"youth percentage\": null}, {\"State\": \"Georgia\\u00a0\", \"Percentage\": \"3.182475035\", \"adult=1 youth=2\": 2, \"adult percentage\": null, \"youth percentage\": null}, {\"State\": \"Hawaii\\u00a0\", \"Percentage\": \"3.925247869\", \"adult=1 youth=2\": 2, \"adult percentage\": null, \"youth percentage\": null}, {\"State\": \"Idaho\\u00a0\", \"Percentage\": \"4.646841263\", \"adult=1 youth=2\": 2, \"adult percentage\": null, \"youth percentage\": null}, {\"State\": \"Illinois\\u00a0\", \"Percentage\": \"4.666726976\", \"adult=1 youth=2\": 2, \"adult percentage\": null, \"youth percentage\": null}, {\"State\": \"Indiana\\u00a0\", \"Percentage\": \"3.291448092\", \"adult=1 youth=2\": 2, \"adult percentage\": null, \"youth percentage\": null}, {\"State\": \"Iowa\\u00a0\", \"Percentage\": \"4.177114319\", \"adult=1 youth=2\": 2, \"adult percentage\": null, \"youth percentage\": null}, {\"State\": \"Kansas\\u00a0\", \"Percentage\": \"4.088204261\", \"adult=1 youth=2\": 2, \"adult percentage\": null, \"youth percentage\": null}, {\"State\": \"Kentucky\\u00a0\", \"Percentage\": \"3.620369457\", \"adult=1 youth=2\": 2, \"adult percentage\": null, \"youth percentage\": null}, {\"State\": \"Louisiana\\u00a0\", \"Percentage\": \"3.886166165\", \"adult=1 youth=2\": 2, \"adult percentage\": null, \"youth percentage\": null}, {\"State\": \"Maine\\u00a0\", \"Percentage\": \"4.746754906\", \"adult=1 youth=2\": 2, \"adult percentage\": null, \"youth percentage\": null}, {\"State\": \"Maryland\\u00a0\", \"Percentage\": \"3.449672251\", \"adult=1 youth=2\": 2, \"adult percentage\": null, \"youth percentage\": null}, {\"State\": \"Massachusetts\\u00a0\", \"Percentage\": \"4.260760958\", \"adult=1 youth=2\": 2, \"adult percentage\": null, \"youth percentage\": null}, {\"State\": \"Michigan\\u00a0\", \"Percentage\": \"3.869633218\", \"adult=1 youth=2\": 2, \"adult percentage\": null, \"youth percentage\": null}, {\"State\": \"Minnesota\\u00a0\", \"Percentage\": \"4.274638216\", \"adult=1 youth=2\": 2, \"adult percentage\": null, \"youth percentage\": null}, {\"State\": \"Mississippi\\u00a0\", \"Percentage\": \"3.493247299\\u00a0\", \"adult=1 youth=2\": 2, \"adult percentage\": null, \"youth percentage\": null}, {\"State\": \"Missouri\\u00a0\", \"Percentage\": \"3.719937618\\u00a0\", \"adult=1 youth=2\": 2, \"adult percentage\": null, \"youth percentage\": null}, {\"State\": \"Montana\\u00a0\", \"Percentage\": \"6.295415565\", \"adult=1 youth=2\": 2, \"adult percentage\": null, \"youth percentage\": null}, {\"State\": \"Nebraska\\u00a0\", \"Percentage\": \"4.048445012\", \"adult=1 youth=2\": 2, \"adult percentage\": null, \"youth percentage\": null}, {\"State\": \"Nevada\\u00a0\", \"Percentage\": \"5.195238999\", \"adult=1 youth=2\": 2, \"adult percentage\": null, \"youth percentage\": null}, {\"State\": \"New Hampshire\\u00a0\", \"Percentage\": \"4.254965351\", \"adult=1 youth=2\": 2, \"adult percentage\": null, \"youth percentage\": null}, {\"State\": \"New Jersey\\u00a0\", \"Percentage\": \"3.342732377\", \"adult=1 youth=2\": 2, \"adult percentage\": null, \"youth percentage\": null}, {\"State\": \"New Mexico\\u00a0\", \"Percentage\": \"6.014429216\", \"adult=1 youth=2\": 2, \"adult percentage\": null, \"youth percentage\": null}, {\"State\": \"New York\\u00a0\", \"Percentage\": \"4.038806972\", \"adult=1 youth=2\": 2, \"adult percentage\": null, \"youth percentage\": null}, {\"State\": \"North Carolina\\u00a0\", \"Percentage\": \"3.627702805\\u00a0\", \"adult=1 youth=2\": 2, \"adult percentage\": null, \"youth percentage\": null}, {\"State\": \"North Dakota\\u00a0\", \"Percentage\": \"4.385811586\", \"adult=1 youth=2\": 2, \"adult percentage\": null, \"youth percentage\": null}, {\"State\": \"Ohio\\u00a0\", \"Percentage\": \"3.991856442\", \"adult=1 youth=2\": 2, \"adult percentage\": null, \"youth percentage\": null}, {\"State\": \"Oklahoma\\u00a0\", \"Percentage\": \"4.359725042\", \"adult=1 youth=2\": 2, \"adult percentage\": null, \"youth percentage\": null}, {\"State\": \"Oregon\\u00a0\", \"Percentage\": \"5.304943479\", \"adult=1 youth=2\": 2, \"adult percentage\": null, \"youth percentage\": null}, {\"State\": \"Pennsylvania\\u00a0\", \"Percentage\": \"3.185802626\", \"adult=1 youth=2\": 2, \"adult percentage\": null, \"youth percentage\": null}, {\"State\": \"Rhode Island\\u00a0\", \"Percentage\": \"4.689070325\", \"adult=1 youth=2\": 2, \"adult percentage\": null, \"youth percentage\": null}, {\"State\": \"South Carolina\\u00a0\", \"Percentage\": \"4.086818098\", \"adult=1 youth=2\": 2, \"adult percentage\": null, \"youth percentage\": null}, {\"State\": \"South Dakota\\u00a0\", \"Percentage\": \"5.586386863\", \"adult=1 youth=2\": 2, \"adult percentage\": null, \"youth percentage\": null}, {\"State\": \"Tennessee\\u00a0\", \"Percentage\": \"3.855519348\", \"adult=1 youth=2\": 2, \"adult percentage\": null, \"youth percentage\": null}, {\"State\": \"Texas\\u00a0\", \"Percentage\": \"3.614661795\", \"adult=1 youth=2\": 2, \"adult percentage\": null, \"youth percentage\": null}, {\"State\": \"Utah\\u00a0\", \"Percentage\": \"3.839603996\", \"adult=1 youth=2\": 2, \"adult percentage\": null, \"youth percentage\": null}, {\"State\": \"Vermont\\u00a0\", \"Percentage\": \"5.465448491\", \"adult=1 youth=2\": 2, \"adult percentage\": null, \"youth percentage\": null}, {\"State\": \"Virginia\\u00a0\", \"Percentage\": \"3.645123485\", \"adult=1 youth=2\": 2, \"adult percentage\": null, \"youth percentage\": null}, {\"State\": \"Washington\\u00a0\", \"Percentage\": \"5.180724175\", \"adult=1 youth=2\": 2, \"adult percentage\": null, \"youth percentage\": null}, {\"State\": \"West Virginia\\u00a0\", \"Percentage\": \"4.419896883\", \"adult=1 youth=2\": 2, \"adult percentage\": null, \"youth percentage\": null}, {\"State\": \"Wisconsin\\u00a0\", \"Percentage\": \"4.231806383\", \"adult=1 youth=2\": 2, \"adult percentage\": null, \"youth percentage\": null}, {\"State\": \"Wyoming\\u00a0\", \"Percentage\": \"5.400402884\", \"adult=1 youth=2\": 2, \"adult percentage\": null, \"youth percentage\": null}]}}, {\"mode\": \"vega-lite\"});\n",
       "</script>"
      ],
      "text/plain": [
       "alt.Chart(...)"
      ]
     },
     "execution_count": 138,
     "metadata": {},
     "output_type": "execute_result"
    }
   ],
   "source": [
    "#box plot\n",
    "alt.Chart(input1).mark_boxplot().encode(\n",
    "    x='Percentage:Q',\n",
    "    y='adult=1 youth=2:O'\n",
    ")"
   ]
  },
  {
   "cell_type": "code",
   "execution_count": 126,
   "metadata": {},
   "outputs": [
    {
     "name": "stdout",
     "output_type": "stream",
     "text": [
      "The adult mean is: 8.22468085106383\n",
      "The youth mean is: 4.384270766764706\n"
     ]
    }
   ],
   "source": [
    "#mean for adult and youth percentages\n",
    "a = input1['adult percentage'].dropna().unique().tolist() #.to_list()\n",
    "a\n",
    "adult = np.array(a).astype(np.float)\n",
    "adult\n",
    "mean_adults = np.mean(adult)\n",
    "print(\"The adult mean is:\", mean_adults)\n",
    "\n",
    "y = input1['youth percentage'].dropna().unique().tolist()\n",
    "y\n",
    "youth = np.array(y).astype(np.float)\n",
    "youth\n",
    "mean_youth = np.mean(youth)\n",
    "print(\"The youth mean is:\", mean_youth) "
   ]
  },
  {
   "cell_type": "code",
   "execution_count": 121,
   "metadata": {},
   "outputs": [
    {
     "data": {
      "text/plain": [
       "100"
      ]
     },
     "execution_count": 121,
     "metadata": {},
     "output_type": "execute_result"
    }
   ],
   "source": [
    "#degrees of freedom\n",
    "N1 = 51\n",
    "N2 = 51\n",
    "df = N1 + N2 - 2\n",
    "df"
   ]
  },
  {
   "cell_type": "code",
   "execution_count": 127,
   "metadata": {},
   "outputs": [
    {
     "name": "stdout",
     "output_type": "stream",
     "text": [
      "The adult standard deviation is: 1.338814736303704\n",
      "The youth standard deviation is: 0.7828569053062484\n"
     ]
    }
   ],
   "source": [
    "#standard deviation\n",
    "std1 = adult.std()\n",
    "print('The adult standard deviation is:', std1)\n",
    "std2 = youth.std()\n",
    "print('The youth standard deviation is:', std2)\n",
    "\n"
   ]
  },
  {
   "cell_type": "code",
   "execution_count": null,
   "metadata": {},
   "outputs": [],
   "source": []
  }
 ],
 "metadata": {
  "kernelspec": {
   "display_name": "Python 3.8.5 64-bit",
   "language": "python",
   "name": "python38564bit5ca82740950e42a586b6f53427258047"
  },
  "language_info": {
   "codemirror_mode": {
    "name": "ipython",
    "version": 3
   },
   "file_extension": ".py",
   "mimetype": "text/x-python",
   "name": "python",
   "nbconvert_exporter": "python",
   "pygments_lexer": "ipython3",
   "version": "3.8.5"
  }
 },
 "nbformat": 4,
 "nbformat_minor": 4
}
