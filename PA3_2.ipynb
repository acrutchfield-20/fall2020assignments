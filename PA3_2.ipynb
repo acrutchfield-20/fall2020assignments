{
 "cells": [
  {
   "cell_type": "code",
   "execution_count": 1,
   "metadata": {},
   "outputs": [],
   "source": [
    "import numpy as np\n",
    "import pandas as pd\n",
    "import altair as alt"
   ]
  },
  {
   "cell_type": "code",
   "execution_count": 2,
   "metadata": {},
   "outputs": [
    {
     "name": "stdout",
     "output_type": "stream",
     "text": [
      "Requirement already satisfied: scipy in /Library/Frameworks/Python.framework/Versions/3.8/lib/python3.8/site-packages (1.5.4)\n",
      "Requirement already satisfied: numpy>=1.14.5 in /Library/Frameworks/Python.framework/Versions/3.8/lib/python3.8/site-packages (from scipy) (1.19.2)\n",
      "\u001b[33mWARNING: You are using pip version 20.1.1; however, version 20.2.4 is available.\n",
      "You should consider upgrading via the '/usr/local/bin/python3 -m pip install --upgrade pip' command.\u001b[0m\n",
      "Note: you may need to restart the kernel to use updated packages.\n"
     ]
    }
   ],
   "source": [
    "pip install scipy"
   ]
  },
  {
   "cell_type": "code",
   "execution_count": 3,
   "metadata": {},
   "outputs": [],
   "source": [
    "import scipy\n",
    "from scipy import stats"
   ]
  },
  {
   "cell_type": "code",
   "execution_count": 5,
   "metadata": {},
   "outputs": [
    {
     "data": {
      "text/html": [
       "<div>\n",
       "<style scoped>\n",
       "    .dataframe tbody tr th:only-of-type {\n",
       "        vertical-align: middle;\n",
       "    }\n",
       "\n",
       "    .dataframe tbody tr th {\n",
       "        vertical-align: top;\n",
       "    }\n",
       "\n",
       "    .dataframe thead th {\n",
       "        text-align: right;\n",
       "    }\n",
       "</style>\n",
       "<table border=\"1\" class=\"dataframe\">\n",
       "  <thead>\n",
       "    <tr style=\"text-align: right;\">\n",
       "      <th></th>\n",
       "      <th>Month</th>\n",
       "      <th>Coronavirus</th>\n",
       "      <th>Current Events</th>\n",
       "      <th>Financial Problems</th>\n",
       "      <th>Loneliness or Isolation</th>\n",
       "      <th>Grief or Loss</th>\n",
       "      <th>Past Trauma</th>\n",
       "      <th>Relationship Problems</th>\n",
       "    </tr>\n",
       "  </thead>\n",
       "  <tbody>\n",
       "    <tr>\n",
       "      <th>0</th>\n",
       "      <td>May</td>\n",
       "      <td>32.45</td>\n",
       "      <td>24.53</td>\n",
       "      <td>23.19</td>\n",
       "      <td>68.81</td>\n",
       "      <td>26.63</td>\n",
       "      <td>46.70</td>\n",
       "      <td>43.17</td>\n",
       "    </tr>\n",
       "    <tr>\n",
       "      <th>1</th>\n",
       "      <td>June</td>\n",
       "      <td>25.50</td>\n",
       "      <td>31.56</td>\n",
       "      <td>23.64</td>\n",
       "      <td>70.70</td>\n",
       "      <td>25.88</td>\n",
       "      <td>45.55</td>\n",
       "      <td>42.74</td>\n",
       "    </tr>\n",
       "    <tr>\n",
       "      <th>2</th>\n",
       "      <td>July</td>\n",
       "      <td>26.24</td>\n",
       "      <td>26.58</td>\n",
       "      <td>24.27</td>\n",
       "      <td>71.35</td>\n",
       "      <td>26.22</td>\n",
       "      <td>46.65</td>\n",
       "      <td>42.77</td>\n",
       "    </tr>\n",
       "    <tr>\n",
       "      <th>3</th>\n",
       "      <td>August</td>\n",
       "      <td>26.64</td>\n",
       "      <td>26.02</td>\n",
       "      <td>24.79</td>\n",
       "      <td>70.77</td>\n",
       "      <td>26.64</td>\n",
       "      <td>46.56</td>\n",
       "      <td>42.61</td>\n",
       "    </tr>\n",
       "    <tr>\n",
       "      <th>4</th>\n",
       "      <td>September</td>\n",
       "      <td>24.53</td>\n",
       "      <td>26.17</td>\n",
       "      <td>23.46</td>\n",
       "      <td>70.69</td>\n",
       "      <td>26.27</td>\n",
       "      <td>45.48</td>\n",
       "      <td>42.05</td>\n",
       "    </tr>\n",
       "  </tbody>\n",
       "</table>\n",
       "</div>"
      ],
      "text/plain": [
       "       Month  Coronavirus  Current Events  Financial Problems  \\\n",
       "0        May        32.45           24.53               23.19   \n",
       "1      June         25.50           31.56               23.64   \n",
       "2       July        26.24           26.58               24.27   \n",
       "3     August        26.64           26.02               24.79   \n",
       "4  September        24.53           26.17               23.46   \n",
       "\n",
       "   Loneliness or Isolation  Grief or Loss  Past Trauma  Relationship Problems  \n",
       "0                    68.81          26.63        46.70                  43.17  \n",
       "1                    70.70          25.88        45.55                  42.74  \n",
       "2                    71.35          26.22        46.65                  42.77  \n",
       "3                    70.77          26.64        46.56                  42.61  \n",
       "4                    70.69          26.27        45.48                  42.05  "
      ]
     },
     "execution_count": 5,
     "metadata": {},
     "output_type": "execute_result"
    }
   ],
   "source": [
    "input2 = pd.read_csv(\"input/input_2.csv\")\n",
    "input2"
   ]
  },
  {
   "cell_type": "code",
   "execution_count": 8,
   "metadata": {},
   "outputs": [
    {
     "name": "stdout",
     "output_type": "stream",
     "text": [
      "Coronavirus: [32.45, 25.5, 26.24, 26.64, 24.53]\n",
      "Current Events:  [24.53, 31.56, 26.58, 26.02, 26.17]\n",
      "Financial Problems:  [23.19, 23.64, 24.27, 24.79, 23.46]\n",
      "Loneliness or Isolation:  [68.81, 70.7, 71.35, 70.77, 70.69]\n",
      "Grief or Loss:  [26.63, 25.88, 26.22, 26.64, 26.27]\n",
      "Past Trauma:  [46.7, 45.55, 46.65, 46.56, 45.48]\n",
      "Relationship Problems:  [43.17, 42.74, 42.77, 42.61, 42.05]\n"
     ]
    }
   ],
   "source": [
    "#excluding month column, convert other seven to lists for normality testing\n",
    "corona = input2['Coronavirus'].to_list()\n",
    "print('Coronavirus:', corona)\n",
    "ce_list = input2['Current Events'].to_list()\n",
    "print('Current Events: ', ce_list)\n",
    "fp_list = input2['Financial Problems'].to_list()\n",
    "print('Financial Problems: ', fp_list)\n",
    "li_list = input2['Loneliness or Isolation'].to_list()\n",
    "print('Loneliness or Isolation: ', li_list)\n",
    "gl_list = input2['Grief or Loss'].to_list()\n",
    "print('Grief or Loss: ', gl_list)\n",
    "pt_list = input2['Past Trauma'].to_list()\n",
    "print('Past Trauma: ', pt_list)\n",
    "rp_list = input2['Relationship Problems'].to_list()\n",
    "print('Relationship Problems: ', rp_list)"
   ]
  },
  {
   "cell_type": "code",
   "execution_count": 15,
   "metadata": {},
   "outputs": [
    {
     "name": "stdout",
     "output_type": "stream",
     "text": [
      "KruskalResult(statistic=4.756014756701232, pvalue=0.0927351796547873)\n"
     ]
    },
    {
     "data": {
      "text/plain": [
       "6"
      ]
     },
     "execution_count": 15,
     "metadata": {},
     "output_type": "execute_result"
    }
   ],
   "source": [
    "#x = np.concatenate((corona, ce_list, fp_list, li_list, gl_list, pt_list, rp_list))\n",
    "#k2, p = stats.normaltest(x)\n",
    "#alpha = 1e-3\n",
    "#print(\"p = {:g}\".format(p))\n",
    "#if p < alpha:  # null hypothesis: x comes from a normal distribution\n",
    "    #print(\"The null hypothesis can be rejected\")\n",
    "#else:\n",
    "    #print(\"The null hypothesis cannot be rejected\")\n",
    "\n",
    "#p = p = 0.0291951, The null hypothesis cannot be rejected\n",
    "#so I used the Kruskal-Wallis H Test \n",
    "\n",
    "x = np.concatenate((corona, ce_list))\n",
    "y = np.concatenate((fp_list, li_list))\n",
    "z = np.concatenate(( gl_list, pt_list, rp_list))\n",
    "print(stats.kruskal(x, y, z))\n",
    "c = 7 # # of sample groups\n",
    "dof = c-1\n",
    "dof"
   ]
  },
  {
   "cell_type": "code",
   "execution_count": 52,
   "metadata": {},
   "outputs": [
    {
     "data": {
      "text/plain": [
       "F_onewayResult(statistic=4.93474535042782, pvalue=0.013553042563955875)"
      ]
     },
     "execution_count": 52,
     "metadata": {},
     "output_type": "execute_result"
    }
   ],
   "source": [
    "#one way ANOVA\n",
    "import researchpy as rp\n",
    "from scipy.stats import f_oneway\n",
    "f_oneway(x,y,z)\n",
    "#wasn't able to figure out how to chart this"
   ]
  },
  {
   "cell_type": "code",
   "execution_count": null,
   "metadata": {},
   "outputs": [],
   "source": []
  }
 ],
 "metadata": {
  "kernelspec": {
   "display_name": "Python 3.8.5 64-bit",
   "language": "python",
   "name": "python38564bit5ca82740950e42a586b6f53427258047"
  },
  "language_info": {
   "codemirror_mode": {
    "name": "ipython",
    "version": 3
   },
   "file_extension": ".py",
   "mimetype": "text/x-python",
   "name": "python",
   "nbconvert_exporter": "python",
   "pygments_lexer": "ipython3",
   "version": "3.8.5"
  }
 },
 "nbformat": 4,
 "nbformat_minor": 4
}
